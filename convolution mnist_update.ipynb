{
  "nbformat": 4,
  "nbformat_minor": 0,
  "metadata": {
    "colab": {
      "name": "Untitled3.ipynb",
      "version": "0.3.2",
      "provenance": [],
      "collapsed_sections": [],
      "include_colab_link": true
    },
    "kernelspec": {
      "name": "python3",
      "display_name": "Python 3"
    },
    "accelerator": "GPU"
  },
  "cells": [
    {
      "cell_type": "markdown",
      "metadata": {
        "id": "view-in-github",
        "colab_type": "text"
      },
      "source": [
        "[View in Colaboratory](https://colab.research.google.com/github/harshsharma22/convolution_mnist/blob/master/convolution%20mnist_update.ipynb)"
      ]
    },
    {
      "metadata": {
        "id": "wmSWVEHmW9JQ",
        "colab_type": "code",
        "colab": {}
      },
      "cell_type": "code",
      "source": [
        "import numpy as np\n",
        "import glob\n",
        "import cv2\n",
        "\n",
        "from keras.models import Sequential\n",
        "import keras\n",
        "from keras.datasets import mnist\n",
        "from keras.preprocessing.image import img_to_array\n",
        "from keras.layers import Conv2D,Dense,MaxPooling2D,Activation,Flatten,Dropout\n",
        "from keras.optimizers import adam\n",
        "from sklearn.model_selection import train_test_split\n",
        "\n"
      ],
      "execution_count": 0,
      "outputs": []
    },
    {
      "metadata": {
        "id": "mfSzWhwPYJoZ",
        "colab_type": "code",
        "colab": {
          "base_uri": "https://localhost:8080/",
          "height": 69
        },
        "outputId": "444b737e-d05d-4897-aa7d-fb9ad35083d6"
      },
      "cell_type": "code",
      "source": [
        "(x_train,y_train),(x_test,y_test) = mnist.load_data()\n",
        "print('x_train shape:', x_train.shape)\n",
        "print(x_train.shape[0], 'train samples')\n",
        "print(x_test.shape[0], 'test samples')\n",
        "img_rows, img_cols = 28, 28"
      ],
      "execution_count": 15,
      "outputs": [
        {
          "output_type": "stream",
          "text": [
            "x_train shape: (60000, 28, 28)\n",
            "60000 train samples\n",
            "10000 test samples\n"
          ],
          "name": "stdout"
        }
      ]
    },
    {
      "metadata": {
        "id": "-G46kN1BXkR4",
        "colab_type": "code",
        "colab": {
          "base_uri": "https://localhost:8080/",
          "height": 34
        },
        "outputId": "5ee76d8f-19be-4532-ee55-7822f164e5c8"
      },
      "cell_type": "code",
      "source": [
        "y_train = keras.utils.to_categorical(y_train, num_classes=10)\n",
        "y_test = keras.utils.to_categorical(y_test, num_classes=10)\n",
        "print(y_train.shape)\n",
        "x_train = x_train.reshape(x_train.shape[0], img_rows, img_cols, 1)\n",
        "x_test = x_test.reshape(x_test.shape[0], img_rows, img_cols, 1)\n",
        "input_shape = (img_rows, img_cols, 1)\n"
      ],
      "execution_count": 16,
      "outputs": [
        {
          "output_type": "stream",
          "text": [
            "(60000, 10)\n"
          ],
          "name": "stdout"
        }
      ]
    },
    {
      "metadata": {
        "id": "GArN_bbPY1WR",
        "colab_type": "code",
        "colab": {
          "base_uri": "https://localhost:8080/",
          "height": 1600
        },
        "outputId": "d9040544-6610-4b3e-e850-2b6f558bd16a"
      },
      "cell_type": "code",
      "source": [
        "model = Sequential()\n",
        "model.add(Conv2D(32, (3, 3), padding='same',input_shape=x_train.shape[1:]))\n",
        "model.add(Activation('relu'))\n",
        "model.add(Conv2D(32, (3, 3),padding='same'))\n",
        "model.add(Activation('relu'))\n",
        "model.add(MaxPooling2D(pool_size=(2, 2)))\n",
        "model.add(Dropout(0.4))\n",
        "\n",
        "model.add(Conv2D(64, (3, 3),padding='same'))\n",
        "model.add(Activation('relu'))\n",
        "model.add(Conv2D(64, (3, 3),padding='same'))\n",
        "model.add(Activation('relu'))\n",
        "model.add(MaxPooling2D(pool_size=(2, 2)))\n",
        "model.add(Dropout(0.4))\n",
        "\n",
        "model.add(Conv2D(128, (2, 2),padding='same'))\n",
        "model.add(Activation('relu'))\n",
        "model.add(Conv2D(128, (2, 2),padding='same'))\n",
        "model.add(Activation('relu'))\n",
        "model.add(MaxPooling2D(pool_size=(2, 2)))\n",
        "\n",
        "\n",
        "\n",
        "\n",
        "\n",
        "\n",
        "\n",
        "\n",
        "model.add(Flatten())\n",
        "model.add(Dense(512))\n",
        "model.add(Activation('relu'))\n",
        "model.add(Dropout(0.4))\n",
        "\n",
        "model.add(Dense(10, activation='softmax'))\n",
        "model.summary(120)\n",
        "\n",
        "\n",
        "opt = keras.optimizers.adam(lr=0.0001, decay=1e-6)\n",
        "model.compile(loss='categorical_crossentropy',optimizer=opt,metrics=['accuracy'])\n",
        "\n",
        "\n",
        "x_train = x_train.astype('float32')\n",
        "x_test = x_test.astype('float32')\n",
        "x_train /= 255\n",
        "x_test /= 255\n",
        "\n",
        "\n",
        "model.fit(x_train, y_train, batch_size=32,validation_data=(x_test, y_test),epochs=18,shuffle=True)\n",
        "\n",
        "score = model.evaluate(x_test, y_test, verbose=0)\n",
        "print('Test loss:', score[0])\n",
        "print('Test accuracy:', score[1])"
      ],
      "execution_count": 17,
      "outputs": [
        {
          "output_type": "stream",
          "text": [
            "________________________________________________________________________________________________________________________\n",
            "Layer (type)                                          Output Shape                                    Param #           \n",
            "========================================================================================================================\n",
            "conv2d_47 (Conv2D)                                    (None, 28, 28, 32)                              320               \n",
            "________________________________________________________________________________________________________________________\n",
            "activation_54 (Activation)                            (None, 28, 28, 32)                              0                 \n",
            "________________________________________________________________________________________________________________________\n",
            "conv2d_48 (Conv2D)                                    (None, 28, 28, 32)                              9248              \n",
            "________________________________________________________________________________________________________________________\n",
            "activation_55 (Activation)                            (None, 28, 28, 32)                              0                 \n",
            "________________________________________________________________________________________________________________________\n",
            "max_pooling2d_24 (MaxPooling2D)                       (None, 14, 14, 32)                              0                 \n",
            "________________________________________________________________________________________________________________________\n",
            "dropout_22 (Dropout)                                  (None, 14, 14, 32)                              0                 \n",
            "________________________________________________________________________________________________________________________\n",
            "conv2d_49 (Conv2D)                                    (None, 14, 14, 64)                              18496             \n",
            "________________________________________________________________________________________________________________________\n",
            "activation_56 (Activation)                            (None, 14, 14, 64)                              0                 \n",
            "________________________________________________________________________________________________________________________\n",
            "conv2d_50 (Conv2D)                                    (None, 14, 14, 64)                              36928             \n",
            "________________________________________________________________________________________________________________________\n",
            "activation_57 (Activation)                            (None, 14, 14, 64)                              0                 \n",
            "________________________________________________________________________________________________________________________\n",
            "max_pooling2d_25 (MaxPooling2D)                       (None, 7, 7, 64)                                0                 \n",
            "________________________________________________________________________________________________________________________\n",
            "dropout_23 (Dropout)                                  (None, 7, 7, 64)                                0                 \n",
            "________________________________________________________________________________________________________________________\n",
            "conv2d_51 (Conv2D)                                    (None, 7, 7, 128)                               32896             \n",
            "________________________________________________________________________________________________________________________\n",
            "activation_58 (Activation)                            (None, 7, 7, 128)                               0                 \n",
            "________________________________________________________________________________________________________________________\n",
            "conv2d_52 (Conv2D)                                    (None, 7, 7, 128)                               65664             \n",
            "________________________________________________________________________________________________________________________\n",
            "activation_59 (Activation)                            (None, 7, 7, 128)                               0                 \n",
            "________________________________________________________________________________________________________________________\n",
            "max_pooling2d_26 (MaxPooling2D)                       (None, 3, 3, 128)                               0                 \n",
            "________________________________________________________________________________________________________________________\n",
            "flatten_8 (Flatten)                                   (None, 1152)                                    0                 \n",
            "________________________________________________________________________________________________________________________\n",
            "dense_15 (Dense)                                      (None, 512)                                     590336            \n",
            "________________________________________________________________________________________________________________________\n",
            "activation_60 (Activation)                            (None, 512)                                     0                 \n",
            "________________________________________________________________________________________________________________________\n",
            "dropout_24 (Dropout)                                  (None, 512)                                     0                 \n",
            "________________________________________________________________________________________________________________________\n",
            "dense_16 (Dense)                                      (None, 10)                                      5130              \n",
            "========================================================================================================================\n",
            "Total params: 759,018\n",
            "Trainable params: 759,018\n",
            "Non-trainable params: 0\n",
            "________________________________________________________________________________________________________________________\n",
            "Train on 60000 samples, validate on 10000 samples\n",
            "Epoch 1/18\n",
            "60000/60000 [==============================] - 39s 648us/step - loss: 0.4836 - acc: 0.8369 - val_loss: 0.0790 - val_acc: 0.9742\n",
            "Epoch 2/18\n",
            "60000/60000 [==============================] - 38s 625us/step - loss: 0.1249 - acc: 0.9608 - val_loss: 0.0552 - val_acc: 0.9803\n",
            "Epoch 3/18\n",
            "60000/60000 [==============================] - 37s 620us/step - loss: 0.0900 - acc: 0.9713 - val_loss: 0.0354 - val_acc: 0.9871\n",
            "Epoch 4/18\n",
            "60000/60000 [==============================] - 37s 612us/step - loss: 0.0729 - acc: 0.9778 - val_loss: 0.0352 - val_acc: 0.9889\n",
            "Epoch 5/18\n",
            "60000/60000 [==============================] - 36s 606us/step - loss: 0.0615 - acc: 0.9810 - val_loss: 0.0293 - val_acc: 0.9896\n",
            "Epoch 6/18\n",
            "60000/60000 [==============================] - 36s 608us/step - loss: 0.0521 - acc: 0.9840 - val_loss: 0.0301 - val_acc: 0.9898\n",
            "Epoch 7/18\n",
            "60000/60000 [==============================] - 36s 608us/step - loss: 0.0461 - acc: 0.9855 - val_loss: 0.0300 - val_acc: 0.9897\n",
            "Epoch 8/18\n",
            "60000/60000 [==============================] - 36s 607us/step - loss: 0.0407 - acc: 0.9871 - val_loss: 0.0233 - val_acc: 0.9919\n",
            "Epoch 9/18\n",
            "60000/60000 [==============================] - 37s 609us/step - loss: 0.0381 - acc: 0.9881 - val_loss: 0.0188 - val_acc: 0.9935\n",
            "Epoch 10/18\n",
            "60000/60000 [==============================] - 37s 609us/step - loss: 0.0347 - acc: 0.9889 - val_loss: 0.0199 - val_acc: 0.9928\n",
            "Epoch 11/18\n",
            "60000/60000 [==============================] - 36s 607us/step - loss: 0.0314 - acc: 0.9896 - val_loss: 0.0203 - val_acc: 0.9930\n",
            "Epoch 12/18\n",
            "60000/60000 [==============================] - 36s 607us/step - loss: 0.0291 - acc: 0.9908 - val_loss: 0.0177 - val_acc: 0.9942\n",
            "Epoch 13/18\n",
            "60000/60000 [==============================] - 36s 608us/step - loss: 0.0268 - acc: 0.9914 - val_loss: 0.0173 - val_acc: 0.9935\n",
            "Epoch 14/18\n",
            "60000/60000 [==============================] - 36s 607us/step - loss: 0.0245 - acc: 0.9922 - val_loss: 0.0177 - val_acc: 0.9939\n",
            "Epoch 15/18\n",
            "60000/60000 [==============================] - 36s 607us/step - loss: 0.0231 - acc: 0.9925 - val_loss: 0.0164 - val_acc: 0.9941\n",
            "Epoch 16/18\n",
            "60000/60000 [==============================] - 36s 608us/step - loss: 0.0212 - acc: 0.9927 - val_loss: 0.0167 - val_acc: 0.9951\n",
            "Epoch 17/18\n",
            "60000/60000 [==============================] - 36s 607us/step - loss: 0.0197 - acc: 0.9936 - val_loss: 0.0150 - val_acc: 0.9949\n",
            "Epoch 18/18\n",
            "60000/60000 [==============================] - 37s 609us/step - loss: 0.0187 - acc: 0.9941 - val_loss: 0.0150 - val_acc: 0.9953\n",
            "Test loss: 0.01498163566836247\n",
            "Test accuracy: 0.9953\n"
          ],
          "name": "stdout"
        }
      ]
    },
    {
      "metadata": {
        "id": "iOvsZNoQUK2X",
        "colab_type": "code",
        "colab": {}
      },
      "cell_type": "code",
      "source": [
        ""
      ],
      "execution_count": 0,
      "outputs": []
    }
  ]
}