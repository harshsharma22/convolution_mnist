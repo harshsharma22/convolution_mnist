{
  "nbformat": 4,
  "nbformat_minor": 0,
  "metadata": {
    "colab": {
      "name": "Untitled3.ipynb",
      "version": "0.3.2",
      "views": {},
      "default_view": {},
      "provenance": [],
      "collapsed_sections": []
    },
    "kernelspec": {
      "name": "python3",
      "display_name": "Python 3"
    },
    "accelerator": "GPU"
  },
  "cells": [
    {
      "metadata": {
        "id": "wmSWVEHmW9JQ",
        "colab_type": "code",
        "colab": {
          "autoexec": {
            "startup": false,
            "wait_interval": 0
          }
        }
      },
      "cell_type": "code",
      "source": [
        "import numpy as np\n",
        "import glob\n",
        "import cv2\n",
        "\n",
        "from keras.models import Sequential\n",
        "import keras\n",
        "from keras.datasets import mnist\n",
        "from keras.preprocessing.image import img_to_array\n",
        "from keras.layers import Conv2D,Dense,MaxPooling2D,Activation,Flatten,Dropout\n",
        "from keras.optimizers import adam\n",
        "from sklearn.model_selection import train_test_split\n",
        "\n"
      ],
      "execution_count": 0,
      "outputs": []
    },
    {
      "metadata": {
        "id": "mfSzWhwPYJoZ",
        "colab_type": "code",
        "colab": {
          "autoexec": {
            "startup": false,
            "wait_interval": 0
          },
          "base_uri": "https://localhost:8080/",
          "height": 69
        },
        "outputId": "69140439-69cf-458a-b39b-0561f0d70ad2",
        "executionInfo": {
          "status": "ok",
          "timestamp": 1533187089110,
          "user_tz": -330,
          "elapsed": 753,
          "user": {
            "displayName": "harsh sharma",
            "photoUrl": "//lh4.googleusercontent.com/-F1gqqLK6KPk/AAAAAAAAAAI/AAAAAAAAAFY/9GI6bCBgMZE/s50-c-k-no/photo.jpg",
            "userId": "100111996481859577731"
          }
        }
      },
      "cell_type": "code",
      "source": [
        "(x_train,y_train),(x_test,y_test) = mnist.load_data()\n",
        "print('x_train shape:', x_train.shape)\n",
        "print(x_train.shape[0], 'train samples')\n",
        "print(x_test.shape[0], 'test samples')\n",
        "img_rows, img_cols = 28, 28"
      ],
      "execution_count": 44,
      "outputs": [
        {
          "output_type": "stream",
          "text": [
            "x_train shape: (60000, 28, 28)\n",
            "60000 train samples\n",
            "10000 test samples\n"
          ],
          "name": "stdout"
        }
      ]
    },
    {
      "metadata": {
        "id": "-G46kN1BXkR4",
        "colab_type": "code",
        "colab": {
          "autoexec": {
            "startup": false,
            "wait_interval": 0
          },
          "base_uri": "https://localhost:8080/",
          "height": 34
        },
        "outputId": "c2a9ff7a-1cfb-442d-8ce2-619c9d86d75d",
        "executionInfo": {
          "status": "ok",
          "timestamp": 1533187092056,
          "user_tz": -330,
          "elapsed": 746,
          "user": {
            "displayName": "harsh sharma",
            "photoUrl": "//lh4.googleusercontent.com/-F1gqqLK6KPk/AAAAAAAAAAI/AAAAAAAAAFY/9GI6bCBgMZE/s50-c-k-no/photo.jpg",
            "userId": "100111996481859577731"
          }
        }
      },
      "cell_type": "code",
      "source": [
        "y_train = keras.utils.to_categorical(y_train, num_classes=10)\n",
        "y_test = keras.utils.to_categorical(y_test, num_classes=10)\n",
        "print(y_train.shape)\n",
        "x_train = x_train.reshape(x_train.shape[0], img_rows, img_cols, 1)\n",
        "x_test = x_test.reshape(x_test.shape[0], img_rows, img_cols, 1)\n",
        "input_shape = (img_rows, img_cols, 1)\n"
      ],
      "execution_count": 45,
      "outputs": [
        {
          "output_type": "stream",
          "text": [
            "(60000, 10)\n"
          ],
          "name": "stdout"
        }
      ]
    },
    {
      "metadata": {
        "id": "GArN_bbPY1WR",
        "colab_type": "code",
        "colab": {
          "autoexec": {
            "startup": false,
            "wait_interval": 0
          },
          "base_uri": "https://localhost:8080/",
          "height": 1476
        },
        "outputId": "5adf1df6-9144-46eb-b901-9bb727686088",
        "executionInfo": {
          "status": "ok",
          "timestamp": 1533187821086,
          "user_tz": -330,
          "elapsed": 719610,
          "user": {
            "displayName": "harsh sharma",
            "photoUrl": "//lh4.googleusercontent.com/-F1gqqLK6KPk/AAAAAAAAAAI/AAAAAAAAAFY/9GI6bCBgMZE/s50-c-k-no/photo.jpg",
            "userId": "100111996481859577731"
          }
        }
      },
      "cell_type": "code",
      "source": [
        "model = Sequential()\n",
        "model.add(Conv2D(32, (3, 3), padding='valid',input_shape=x_train.shape[1:]))\n",
        "model.add(Activation('relu'))\n",
        "model.add(Conv2D(32, (3, 3)))\n",
        "model.add(Activation('relu'))\n",
        "model.add(MaxPooling2D(pool_size=(2, 2)))\n",
        "model.add(Dropout(0.4))\n",
        "\n",
        "model.add(Conv2D(64, (3, 3)))\n",
        "model.add(Activation('relu'))\n",
        "model.add(Conv2D(64, (3, 3)))\n",
        "model.add(Activation('relu'))\n",
        "model.add(MaxPooling2D(pool_size=(2, 2)))\n",
        "model.add(Dropout(0.4))\n",
        "\n",
        "model.add(Conv2D(64, (2, 2)))\n",
        "model.add(Activation('relu'))\n",
        "model.add(Conv2D(64, (2, 2)))\n",
        "model.add(Activation('relu'))\n",
        "model.add(MaxPooling2D(pool_size=(2, 2)))\n",
        "\n",
        "\n",
        "\n",
        "\n",
        "\n",
        "model.summary(120)\n",
        "\n",
        "\n",
        "\n",
        "model.add(Flatten())\n",
        "model.add(Dense(512))\n",
        "model.add(Activation('relu'))\n",
        "model.add(Dropout(0.4))\n",
        "model.add(Dense(10, activation='softmax'))\n",
        "\n",
        "\n",
        "\n",
        "opt = keras.optimizers.adam(lr=0.0001, decay=1e-6)\n",
        "model.compile(loss='categorical_crossentropy',optimizer=opt,metrics=['accuracy'])\n",
        "\n",
        "\n",
        "x_train = x_train.astype('float32')\n",
        "x_test = x_test.astype('float32')\n",
        "x_train /= 255\n",
        "x_test /= 255\n",
        "\n",
        "\n",
        "model.fit(x_train, y_train, batch_size=32,validation_data=(x_test, y_test),epochs=20,shuffle=True)\n",
        "\n",
        "score = model.evaluate(x_test, y_test, verbose=0)\n",
        "print('Test loss:', score[0])\n",
        "print('Test accuracy:', score[1])"
      ],
      "execution_count": 46,
      "outputs": [
        {
          "output_type": "stream",
          "text": [
            "________________________________________________________________________________________________________________________\n",
            "Layer (type)                                          Output Shape                                    Param #           \n",
            "========================================================================================================================\n",
            "conv2d_91 (Conv2D)                                    (None, 26, 26, 32)                              320               \n",
            "________________________________________________________________________________________________________________________\n",
            "activation_103 (Activation)                           (None, 26, 26, 32)                              0                 \n",
            "________________________________________________________________________________________________________________________\n",
            "conv2d_92 (Conv2D)                                    (None, 24, 24, 32)                              9248              \n",
            "________________________________________________________________________________________________________________________\n",
            "activation_104 (Activation)                           (None, 24, 24, 32)                              0                 \n",
            "________________________________________________________________________________________________________________________\n",
            "max_pooling2d_43 (MaxPooling2D)                       (None, 12, 12, 32)                              0                 \n",
            "________________________________________________________________________________________________________________________\n",
            "dropout_36 (Dropout)                                  (None, 12, 12, 32)                              0                 \n",
            "________________________________________________________________________________________________________________________\n",
            "conv2d_93 (Conv2D)                                    (None, 10, 10, 64)                              18496             \n",
            "________________________________________________________________________________________________________________________\n",
            "activation_105 (Activation)                           (None, 10, 10, 64)                              0                 \n",
            "________________________________________________________________________________________________________________________\n",
            "conv2d_94 (Conv2D)                                    (None, 8, 8, 64)                                36928             \n",
            "________________________________________________________________________________________________________________________\n",
            "activation_106 (Activation)                           (None, 8, 8, 64)                                0                 \n",
            "________________________________________________________________________________________________________________________\n",
            "max_pooling2d_44 (MaxPooling2D)                       (None, 4, 4, 64)                                0                 \n",
            "________________________________________________________________________________________________________________________\n",
            "dropout_37 (Dropout)                                  (None, 4, 4, 64)                                0                 \n",
            "________________________________________________________________________________________________________________________\n",
            "conv2d_95 (Conv2D)                                    (None, 3, 3, 64)                                16448             \n",
            "________________________________________________________________________________________________________________________\n",
            "activation_107 (Activation)                           (None, 3, 3, 64)                                0                 \n",
            "________________________________________________________________________________________________________________________\n",
            "conv2d_96 (Conv2D)                                    (None, 2, 2, 64)                                16448             \n",
            "________________________________________________________________________________________________________________________\n",
            "activation_108 (Activation)                           (None, 2, 2, 64)                                0                 \n",
            "________________________________________________________________________________________________________________________\n",
            "max_pooling2d_45 (MaxPooling2D)                       (None, 1, 1, 64)                                0                 \n",
            "========================================================================================================================\n",
            "Total params: 97,888\n",
            "Trainable params: 97,888\n",
            "Non-trainable params: 0\n",
            "________________________________________________________________________________________________________________________\n",
            "Train on 60000 samples, validate on 10000 samples\n",
            "Epoch 1/20\n",
            " 1664/60000 [..............................] - ETA: 1:43 - loss: 2.3003 - acc: 0.1136"
          ],
          "name": "stdout"
        },
        {
          "output_type": "stream",
          "text": [
            "60000/60000 [==============================] - 38s 637us/step - loss: 0.7892 - acc: 0.7316 - val_loss: 0.1597 - val_acc: 0.9528\n",
            "Epoch 2/20\n",
            "20928/60000 [=========>....................] - ETA: 22s - loss: 0.2651 - acc: 0.9176"
          ],
          "name": "stdout"
        },
        {
          "output_type": "stream",
          "text": [
            "60000/60000 [==============================] - 36s 595us/step - loss: 0.2288 - acc: 0.9286 - val_loss: 0.0908 - val_acc: 0.9718\n",
            "Epoch 3/20\n",
            "28032/60000 [=============>................] - ETA: 18s - loss: 0.1567 - acc: 0.9505"
          ],
          "name": "stdout"
        },
        {
          "output_type": "stream",
          "text": [
            "60000/60000 [==============================] - 36s 594us/step - loss: 0.1508 - acc: 0.9526 - val_loss: 0.0686 - val_acc: 0.9791\n",
            "Epoch 4/20\n",
            "30784/60000 [==============>...............] - ETA: 16s - loss: 0.1247 - acc: 0.9600"
          ],
          "name": "stdout"
        },
        {
          "output_type": "stream",
          "text": [
            "60000/60000 [==============================] - 35s 591us/step - loss: 0.1195 - acc: 0.9629 - val_loss: 0.0526 - val_acc: 0.9841\n",
            "Epoch 5/20\n",
            "31808/60000 [==============>...............] - ETA: 15s - loss: 0.0979 - acc: 0.9688"
          ],
          "name": "stdout"
        },
        {
          "output_type": "stream",
          "text": [
            "60000/60000 [==============================] - 36s 596us/step - loss: 0.0982 - acc: 0.9694 - val_loss: 0.0446 - val_acc: 0.9858\n",
            "Epoch 6/20\n",
            "32288/60000 [===============>..............] - ETA: 15s - loss: 0.0871 - acc: 0.9731"
          ],
          "name": "stdout"
        },
        {
          "output_type": "stream",
          "text": [
            "60000/60000 [==============================] - 36s 597us/step - loss: 0.0850 - acc: 0.9740 - val_loss: 0.0393 - val_acc: 0.9874\n",
            "Epoch 7/20\n",
            "32448/60000 [===============>..............] - ETA: 15s - loss: 0.0784 - acc: 0.9757"
          ],
          "name": "stdout"
        },
        {
          "output_type": "stream",
          "text": [
            "60000/60000 [==============================] - 35s 588us/step - loss: 0.0763 - acc: 0.9766 - val_loss: 0.0350 - val_acc: 0.9889\n",
            "Epoch 8/20\n",
            "32544/60000 [===============>..............] - ETA: 15s - loss: 0.0679 - acc: 0.9787"
          ],
          "name": "stdout"
        },
        {
          "output_type": "stream",
          "text": [
            "60000/60000 [==============================] - 36s 596us/step - loss: 0.0687 - acc: 0.9789 - val_loss: 0.0302 - val_acc: 0.9906\n",
            "Epoch 9/20\n",
            "32480/60000 [===============>..............] - ETA: 15s - loss: 0.0643 - acc: 0.9805"
          ],
          "name": "stdout"
        },
        {
          "output_type": "stream",
          "text": [
            "60000/60000 [==============================] - 35s 590us/step - loss: 0.0634 - acc: 0.9806 - val_loss: 0.0291 - val_acc: 0.9905\n",
            "Epoch 10/20\n",
            "32288/60000 [===============>..............] - ETA: 15s - loss: 0.0584 - acc: 0.9823"
          ],
          "name": "stdout"
        },
        {
          "output_type": "stream",
          "text": [
            "60000/60000 [==============================] - 36s 594us/step - loss: 0.0580 - acc: 0.9821 - val_loss: 0.0270 - val_acc: 0.9920\n",
            "Epoch 11/20\n",
            "32352/60000 [===============>..............] - ETA: 15s - loss: 0.0535 - acc: 0.9838"
          ],
          "name": "stdout"
        },
        {
          "output_type": "stream",
          "text": [
            "60000/60000 [==============================] - 36s 596us/step - loss: 0.0518 - acc: 0.9840 - val_loss: 0.0253 - val_acc: 0.9924\n",
            "Epoch 12/20\n",
            "32160/60000 [===============>..............] - ETA: 15s - loss: 0.0489 - acc: 0.9850"
          ],
          "name": "stdout"
        },
        {
          "output_type": "stream",
          "text": [
            "60000/60000 [==============================] - 35s 591us/step - loss: 0.0501 - acc: 0.9848 - val_loss: 0.0260 - val_acc: 0.9926\n",
            "Epoch 13/20\n",
            "32256/60000 [===============>..............] - ETA: 15s - loss: 0.0437 - acc: 0.9865"
          ],
          "name": "stdout"
        },
        {
          "output_type": "stream",
          "text": [
            "60000/60000 [==============================] - 35s 589us/step - loss: 0.0465 - acc: 0.9855 - val_loss: 0.0236 - val_acc: 0.9926\n",
            "Epoch 14/20\n",
            "32256/60000 [===============>..............] - ETA: 15s - loss: 0.0458 - acc: 0.9857"
          ],
          "name": "stdout"
        },
        {
          "output_type": "stream",
          "text": [
            "60000/60000 [==============================] - 35s 589us/step - loss: 0.0450 - acc: 0.9860 - val_loss: 0.0225 - val_acc: 0.9934\n",
            "Epoch 15/20\n",
            "32224/60000 [===============>..............] - ETA: 15s - loss: 0.0411 - acc: 0.9872"
          ],
          "name": "stdout"
        },
        {
          "output_type": "stream",
          "text": [
            "60000/60000 [==============================] - 36s 601us/step - loss: 0.0416 - acc: 0.9871 - val_loss: 0.0239 - val_acc: 0.9922\n",
            "Epoch 16/20\n",
            "32032/60000 [===============>..............] - ETA: 16s - loss: 0.0390 - acc: 0.9877"
          ],
          "name": "stdout"
        },
        {
          "output_type": "stream",
          "text": [
            "60000/60000 [==============================] - 36s 608us/step - loss: 0.0381 - acc: 0.9877 - val_loss: 0.0238 - val_acc: 0.9923\n",
            "Epoch 17/20\n",
            "32128/60000 [===============>..............] - ETA: 15s - loss: 0.0397 - acc: 0.9868"
          ],
          "name": "stdout"
        },
        {
          "output_type": "stream",
          "text": [
            "60000/60000 [==============================] - 36s 593us/step - loss: 0.0380 - acc: 0.9877 - val_loss: 0.0214 - val_acc: 0.9933\n",
            "Epoch 18/20\n",
            "32256/60000 [===============>..............] - ETA: 15s - loss: 0.0364 - acc: 0.9884"
          ],
          "name": "stdout"
        },
        {
          "output_type": "stream",
          "text": [
            "60000/60000 [==============================] - 35s 589us/step - loss: 0.0361 - acc: 0.9885 - val_loss: 0.0200 - val_acc: 0.9938\n",
            "Epoch 19/20\n",
            "32384/60000 [===============>..............] - ETA: 15s - loss: 0.0328 - acc: 0.9891"
          ],
          "name": "stdout"
        },
        {
          "output_type": "stream",
          "text": [
            "60000/60000 [==============================] - 36s 592us/step - loss: 0.0347 - acc: 0.9887 - val_loss: 0.0193 - val_acc: 0.9937\n",
            "Epoch 20/20\n",
            "32320/60000 [===============>..............] - ETA: 15s - loss: 0.0319 - acc: 0.9896"
          ],
          "name": "stdout"
        },
        {
          "output_type": "stream",
          "text": [
            "60000/60000 [==============================] - 36s 599us/step - loss: 0.0337 - acc: 0.9890 - val_loss: 0.0182 - val_acc: 0.9946\n",
            "Test loss: 0.018159907035132348\n",
            "Test accuracy: 0.9946\n"
          ],
          "name": "stdout"
        }
      ]
    },
    {
      "metadata": {
        "id": "iOvsZNoQUK2X",
        "colab_type": "code",
        "colab": {
          "autoexec": {
            "startup": false,
            "wait_interval": 0
          }
        }
      },
      "cell_type": "code",
      "source": [
        ""
      ],
      "execution_count": 0,
      "outputs": []
    }
  ]
}