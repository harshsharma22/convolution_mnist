{
  "nbformat": 4,
  "nbformat_minor": 0,
  "metadata": {
    "colab": {
      "name": "Untitled3.ipynb",
      "version": "0.3.2",
      "provenance": [],
      "collapsed_sections": [],
      "include_colab_link": true
    },
    "kernelspec": {
      "name": "python3",
      "display_name": "Python 3"
    },
    "accelerator": "GPU"
  },
  "cells": [
    {
      "cell_type": "markdown",
      "metadata": {
        "id": "view-in-github",
        "colab_type": "text"
      },
      "source": [
        "[View in Colaboratory](https://colab.research.google.com/github/harshsharma22/convolution_mnist/blob/master/convolution_updated.ipynb)"
      ]
    },
    {
      "metadata": {
        "id": "wmSWVEHmW9JQ",
        "colab_type": "code",
        "colab": {}
      },
      "cell_type": "code",
      "source": [
        "import numpy as np\n",
        "import glob\n",
        "import cv2\n",
        "\n",
        "from keras.models import Sequential\n",
        "import keras\n",
        "from keras.datasets import mnist\n",
        "from keras.preprocessing.image import img_to_array\n",
        "from keras.layers import Conv2D,Dense,MaxPooling2D,Activation,Flatten,Dropout\n",
        "from keras.optimizers import adam\n",
        "from sklearn.model_selection import train_test_split\n",
        "\n"
      ],
      "execution_count": 0,
      "outputs": []
    },
    {
      "metadata": {
        "id": "mfSzWhwPYJoZ",
        "colab_type": "code",
        "colab": {
          "base_uri": "https://localhost:8080/",
          "height": 69
        },
        "outputId": "1a08c78a-3f4e-4d6a-c31a-95e2bc94543b"
      },
      "cell_type": "code",
      "source": [
        "(x_train,y_train),(x_test,y_test) = mnist.load_data()\n",
        "print('x_train shape:', x_train.shape)\n",
        "print(x_train.shape[0], 'train samples')\n",
        "print(x_test.shape[0], 'test samples')\n",
        "img_rows, img_cols = 28, 28"
      ],
      "execution_count": 28,
      "outputs": [
        {
          "output_type": "stream",
          "text": [
            "x_train shape: (60000, 28, 28)\n",
            "60000 train samples\n",
            "10000 test samples\n"
          ],
          "name": "stdout"
        }
      ]
    },
    {
      "metadata": {
        "id": "-G46kN1BXkR4",
        "colab_type": "code",
        "colab": {
          "base_uri": "https://localhost:8080/",
          "height": 34
        },
        "outputId": "00d731b3-bdd1-4061-9640-408cd614c81f"
      },
      "cell_type": "code",
      "source": [
        "y_train = keras.utils.to_categorical(y_train, num_classes=10)\n",
        "y_test = keras.utils.to_categorical(y_test, num_classes=10)\n",
        "print(y_train.shape)\n",
        "x_train = x_train.reshape(x_train.shape[0], img_rows, img_cols, 1)\n",
        "x_test = x_test.reshape(x_test.shape[0], img_rows, img_cols, 1)\n",
        "input_shape = (img_rows, img_cols, 1)\n"
      ],
      "execution_count": 29,
      "outputs": [
        {
          "output_type": "stream",
          "text": [
            "(60000, 10)\n"
          ],
          "name": "stdout"
        }
      ]
    },
    {
      "metadata": {
        "id": "GArN_bbPY1WR",
        "colab_type": "code",
        "colab": {
          "base_uri": "https://localhost:8080/",
          "height": 1600
        },
        "outputId": "6319eac0-77ab-433b-d2a9-3e935520f446"
      },
      "cell_type": "code",
      "source": [
        "model = Sequential()\n",
        "model.add(Conv2D(32, (3, 3), padding='same',input_shape=x_train.shape[1:]))\n",
        "model.add(Activation('relu'))\n",
        "model.add(Conv2D(32, (3, 3),padding='same'))\n",
        "model.add(Activation('relu'))\n",
        "model.add(MaxPooling2D(pool_size=(2, 2)))\n",
        "model.add(Dropout(0.4))\n",
        "\n",
        "model.add(Conv2D(64, (3, 3),padding='same'))\n",
        "model.add(Activation('relu'))\n",
        "model.add(Conv2D(64, (3, 3),padding='same'))\n",
        "model.add(Activation('relu'))\n",
        "model.add(MaxPooling2D(pool_size=(2, 2)))\n",
        "model.add(Dropout(0.4))\n",
        "\n",
        "model.add(Conv2D(128, (2, 2),padding='same'))\n",
        "model.add(Activation('relu'))\n",
        "model.add(Conv2D(128, (2, 2),padding='same'))\n",
        "model.add(Activation('relu'))\n",
        "model.add(MaxPooling2D(pool_size=(2, 2)))\n",
        "\n",
        "\n",
        "\n",
        "\n",
        "\n",
        "\n",
        "\n",
        "\n",
        "model.add(Flatten())\n",
        "model.add(Dense(512))\n",
        "model.add(Activation('relu'))\n",
        "model.add(Dropout(0.4))\n",
        "\n",
        "model.add(Dense(10, activation='softmax'))\n",
        "model.summary(120)\n",
        "\n",
        "\n",
        "opt = keras.optimizers.adam(lr=0.0001, decay=1e-6)\n",
        "model.compile(loss='categorical_crossentropy',optimizer=opt,metrics=['accuracy'])\n",
        "\n",
        "\n",
        "x_train = x_train.astype('float32')\n",
        "x_test = x_test.astype('float32')\n",
        "x_train /= 255\n",
        "x_test /= 255\n",
        "\n",
        "\n",
        "model.fit(x_train, y_train, batch_size=32,validation_data=(x_test, y_test),epochs=18,shuffle=True)\n",
        "\n",
        "score = model.evaluate(x_test, y_test, verbose=0)\n",
        "print('Test loss:', score[0])\n",
        "print('Test accuracy:', score[1])"
      ],
      "execution_count": 30,
      "outputs": [
        {
          "output_type": "stream",
          "text": [
            "________________________________________________________________________________________________________________________\n",
            "Layer (type)                                          Output Shape                                    Param #           \n",
            "========================================================================================================================\n",
            "conv2d_71 (Conv2D)                                    (None, 28, 28, 32)                              320               \n",
            "________________________________________________________________________________________________________________________\n",
            "activation_82 (Activation)                            (None, 28, 28, 32)                              0                 \n",
            "________________________________________________________________________________________________________________________\n",
            "conv2d_72 (Conv2D)                                    (None, 28, 28, 32)                              9248              \n",
            "________________________________________________________________________________________________________________________\n",
            "activation_83 (Activation)                            (None, 28, 28, 32)                              0                 \n",
            "________________________________________________________________________________________________________________________\n",
            "max_pooling2d_36 (MaxPooling2D)                       (None, 14, 14, 32)                              0                 \n",
            "________________________________________________________________________________________________________________________\n",
            "dropout_34 (Dropout)                                  (None, 14, 14, 32)                              0                 \n",
            "________________________________________________________________________________________________________________________\n",
            "conv2d_73 (Conv2D)                                    (None, 14, 14, 64)                              18496             \n",
            "________________________________________________________________________________________________________________________\n",
            "activation_84 (Activation)                            (None, 14, 14, 64)                              0                 \n",
            "________________________________________________________________________________________________________________________\n",
            "conv2d_74 (Conv2D)                                    (None, 14, 14, 64)                              36928             \n",
            "________________________________________________________________________________________________________________________\n",
            "activation_85 (Activation)                            (None, 14, 14, 64)                              0                 \n",
            "________________________________________________________________________________________________________________________\n",
            "max_pooling2d_37 (MaxPooling2D)                       (None, 7, 7, 64)                                0                 \n",
            "________________________________________________________________________________________________________________________\n",
            "dropout_35 (Dropout)                                  (None, 7, 7, 64)                                0                 \n",
            "________________________________________________________________________________________________________________________\n",
            "conv2d_75 (Conv2D)                                    (None, 7, 7, 128)                               32896             \n",
            "________________________________________________________________________________________________________________________\n",
            "activation_86 (Activation)                            (None, 7, 7, 128)                               0                 \n",
            "________________________________________________________________________________________________________________________\n",
            "conv2d_76 (Conv2D)                                    (None, 7, 7, 128)                               65664             \n",
            "________________________________________________________________________________________________________________________\n",
            "activation_87 (Activation)                            (None, 7, 7, 128)                               0                 \n",
            "________________________________________________________________________________________________________________________\n",
            "max_pooling2d_38 (MaxPooling2D)                       (None, 3, 3, 128)                               0                 \n",
            "________________________________________________________________________________________________________________________\n",
            "flatten_12 (Flatten)                                  (None, 1152)                                    0                 \n",
            "________________________________________________________________________________________________________________________\n",
            "dense_23 (Dense)                                      (None, 512)                                     590336            \n",
            "________________________________________________________________________________________________________________________\n",
            "activation_88 (Activation)                            (None, 512)                                     0                 \n",
            "________________________________________________________________________________________________________________________\n",
            "dropout_36 (Dropout)                                  (None, 512)                                     0                 \n",
            "________________________________________________________________________________________________________________________\n",
            "dense_24 (Dense)                                      (None, 10)                                      5130              \n",
            "========================================================================================================================\n",
            "Total params: 759,018\n",
            "Trainable params: 759,018\n",
            "Non-trainable params: 0\n",
            "________________________________________________________________________________________________________________________\n",
            "Train on 60000 samples, validate on 10000 samples\n",
            "Epoch 1/18\n",
            "60000/60000 [==============================] - 40s 663us/step - loss: 0.4664 - acc: 0.8421 - val_loss: 0.0789 - val_acc: 0.9737\n",
            "Epoch 2/18\n",
            "60000/60000 [==============================] - 38s 633us/step - loss: 0.1273 - acc: 0.9606 - val_loss: 0.0590 - val_acc: 0.9802\n",
            "Epoch 3/18\n",
            "60000/60000 [==============================] - 38s 637us/step - loss: 0.0928 - acc: 0.9715 - val_loss: 0.0408 - val_acc: 0.9856\n",
            "Epoch 4/18\n",
            "60000/60000 [==============================] - 38s 631us/step - loss: 0.0742 - acc: 0.9767 - val_loss: 0.0341 - val_acc: 0.9875\n",
            "Epoch 5/18\n",
            "60000/60000 [==============================] - 38s 632us/step - loss: 0.0628 - acc: 0.9798 - val_loss: 0.0304 - val_acc: 0.9880\n",
            "Epoch 6/18\n",
            "60000/60000 [==============================] - 37s 618us/step - loss: 0.0525 - acc: 0.9840 - val_loss: 0.0271 - val_acc: 0.9905\n",
            "Epoch 7/18\n",
            "60000/60000 [==============================] - 36s 601us/step - loss: 0.0470 - acc: 0.9851 - val_loss: 0.0230 - val_acc: 0.9925\n",
            "Epoch 8/18\n",
            "60000/60000 [==============================] - 36s 594us/step - loss: 0.0403 - acc: 0.9869 - val_loss: 0.0256 - val_acc: 0.9913\n",
            "Epoch 9/18\n",
            "60000/60000 [==============================] - 36s 592us/step - loss: 0.0381 - acc: 0.9884 - val_loss: 0.0209 - val_acc: 0.9930\n",
            "Epoch 10/18\n",
            "60000/60000 [==============================] - 36s 592us/step - loss: 0.0344 - acc: 0.9891 - val_loss: 0.0216 - val_acc: 0.9922\n",
            "Epoch 11/18\n",
            "60000/60000 [==============================] - 36s 592us/step - loss: 0.0323 - acc: 0.9901 - val_loss: 0.0176 - val_acc: 0.9933\n",
            "Epoch 12/18\n",
            "60000/60000 [==============================] - 36s 594us/step - loss: 0.0284 - acc: 0.9911 - val_loss: 0.0177 - val_acc: 0.9940\n",
            "Epoch 13/18\n",
            "60000/60000 [==============================] - 36s 602us/step - loss: 0.0267 - acc: 0.9913 - val_loss: 0.0186 - val_acc: 0.9938\n",
            "Epoch 14/18\n",
            "60000/60000 [==============================] - 36s 602us/step - loss: 0.0244 - acc: 0.9920 - val_loss: 0.0194 - val_acc: 0.9936\n",
            "Epoch 15/18\n",
            "60000/60000 [==============================] - 36s 602us/step - loss: 0.0231 - acc: 0.9928 - val_loss: 0.0156 - val_acc: 0.9951\n",
            "Epoch 16/18\n",
            "60000/60000 [==============================] - 36s 607us/step - loss: 0.0211 - acc: 0.9931 - val_loss: 0.0205 - val_acc: 0.9933\n",
            "Epoch 17/18\n",
            "60000/60000 [==============================] - 36s 604us/step - loss: 0.0212 - acc: 0.9935 - val_loss: 0.0176 - val_acc: 0.9943\n",
            "Epoch 18/18\n",
            "60000/60000 [==============================] - 36s 603us/step - loss: 0.0196 - acc: 0.9936 - val_loss: 0.0171 - val_acc: 0.9951\n",
            "Test loss: 0.017108066727301047\n",
            "Test accuracy: 0.9951\n"
          ],
          "name": "stdout"
        }
      ]
    },
    {
      "metadata": {
        "id": "iOvsZNoQUK2X",
        "colab_type": "code",
        "colab": {}
      },
      "cell_type": "code",
      "source": [
        ""
      ],
      "execution_count": 0,
      "outputs": []
    }
  ]
}